{
 "cells": [
  {
   "cell_type": "markdown",
   "metadata": {},
   "source": [
    "# Missing Data Problem"
   ]
  },
  {
   "cell_type": "code",
   "execution_count": 5,
   "metadata": {},
   "outputs": [],
   "source": [
    "import numpy as np\n",
    "from scipy.stats import norm, binom\n",
    "from scipy import linalg"
   ]
  },
  {
   "cell_type": "code",
   "execution_count": 4,
   "metadata": {},
   "outputs": [],
   "source": [
    "\n",
    "def MD(k):\n",
    "    n=100\n",
    "    e=norm.rvs(loc=0,scale=0.01,size=n)\n",
    "    x=norm.rvs(loc=1,scale=0.5,size=n)\n",
    "    y=0.5+x+e\n",
    "    one=np.ones(n)\n",
    "    X=np.column_stack((one,x))\n",
    "    B=np.dot((np.linalg.inv((np.dot(X.transpose(),X)))),(np.dot(X.transpose(),(y))))\n",
    "    est_e=y-np.dot(X,B)\n",
    "    est_vare=np.var(est_e)\n",
    "    ## missing data\n",
    "    ny1=y[x>=1];nx1=x[x>=1]\n",
    "    y2=y[x<1];x2=x[x<1]\n",
    "    r=binom.rvs(n=1,p=0.5,size=len(y2))\n",
    "    ny2=y2[r==1];nx2=x2[r==1]\n",
    "    ny=np.concatenate([ny1,ny2]);nx=np.concatenate([nx1,nx2])\n",
    "    none=np.ones(len(nx))\n",
    "    nX=np.column_stack((none,nx))                                           \n",
    "    nB=np.dot((np.linalg.inv((np.dot(nX.transpose(),nX)))),(np.dot(nX.transpose(),(ny))))\n",
    "    nest_e=ny-np.dot(nX,nB)\n",
    "    nest_vare=np.var(nest_e)\n",
    "    nest_e\n",
    "    return[(B,est_vare,nB,nest_vare)]\n"
   ]
  },
  {
   "cell_type": "code",
   "execution_count": 7,
   "metadata": {},
   "outputs": [],
   "source": [
    "B=1000\n",
    "M=[MD(i) for i in range(0,B) ]\n",
    "for i in range(0,B):\n",
    "    RB_alpha = (np.mean(((M[i])[0][0])[0])-0.5)/0.5\n",
    "    nRB_alpha = (np.mean(((M[i])[0][2])[0])-0.5)/0.5\n",
    "    RB_beta = (np.mean(((M[i])[0][0])[1])-0.5)/0.5\n",
    "    nRB_beta = (np.mean(((M[i])[0][2])[1])-0.5)/0.5\n",
    "    MSE_alpha = (np.sum((((M[i])[0][0])[0])-0.5)**2)/B\n",
    "    nMSE_alpha = (np.sum((((M[i])[0][2])[0])-0.5)**2)/B\n",
    "    MSE_beta = (np.sum((((M[i])[0][0])[1])-0.5)**2)/B\n",
    "    nMSE_beta = (np.mean((((M[i])[0][2])[1])-0.5)**2)/B"
   ]
  },
  {
   "cell_type": "markdown",
   "metadata": {},
   "source": [
    "Relative Bias and MSE of alpha, new alpha ,beta, new beta  are respectively"
   ]
  },
  {
   "cell_type": "code",
   "execution_count": null,
   "metadata": {},
   "outputs": [],
   "source": [
    "print(RB_alpha,nRB_alpha,RB_beta,nRB_beta,MSE_alpha,nMSE_alpha,MSE_beta,nMSE_beta)"
   ]
  }
 ],
 "metadata": {
  "kernelspec": {
   "display_name": "Python 3",
   "language": "python",
   "name": "python3"
  },
  "language_info": {
   "codemirror_mode": {
    "name": "ipython",
    "version": 3
   },
   "file_extension": ".py",
   "mimetype": "text/x-python",
   "name": "python",
   "nbconvert_exporter": "python",
   "pygments_lexer": "ipython3",
   "version": "3.7.4"
  }
 },
 "nbformat": 4,
 "nbformat_minor": 2
}
